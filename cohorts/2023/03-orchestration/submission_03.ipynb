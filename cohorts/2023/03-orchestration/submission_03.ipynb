{
 "cells": [
  {
   "attachments": {},
   "cell_type": "markdown",
   "metadata": {},
   "source": [
    "# Homework 03"
   ]
  },
  {
   "attachments": {},
   "cell_type": "markdown",
   "metadata": {},
   "source": [
    "## Q1"
   ]
  },
  {
   "cell_type": "code",
   "execution_count": 2,
   "metadata": {},
   "outputs": [
    {
     "name": "stdout",
     "output_type": "stream",
     "text": [
      "Help on function task in module prefect.tasks:\n",
      "\n",
      "task(__fn=None, *, name: str = None, description: str = None, tags: Iterable[str] = None, version: str = None, cache_key_fn: Callable[[ForwardRef('TaskRunContext'), Dict[str, Any]], Optional[str]] = None, cache_expiration: datetime.timedelta = None, task_run_name: Union[Callable[[], str], str, NoneType] = None, retries: int = None, retry_delay_seconds: Union[float, int, List[float], Callable[[int], List[float]]] = None, retry_jitter_factor: Optional[float] = None, persist_result: Optional[bool] = None, result_storage: Union[prefect.filesystems.WritableFileSystem, str, NoneType] = None, result_storage_key: Optional[str] = None, result_serializer: Union[prefect.serializers.Serializer, str, NoneType] = None, cache_result_in_memory: bool = True, timeout_seconds: Union[int, float] = None, log_prints: Optional[bool] = None, refresh_cache: Optional[bool] = None, on_completion: Optional[List[Callable[[ForwardRef('Task'), prefect.client.schemas.objects.TaskRun, prefect.client.schemas.objects.State], NoneType]]] = None, on_failure: Optional[List[Callable[[ForwardRef('Task'), prefect.client.schemas.objects.TaskRun, prefect.client.schemas.objects.State], NoneType]]] = None)\n",
      "    Decorator to designate a function as a task in a Prefect workflow.\n",
      "    \n",
      "    This decorator may be used for asynchronous or synchronous functions.\n",
      "    \n",
      "    Args:\n",
      "        name: An optional name for the task; if not provided, the name will be inferred\n",
      "            from the given function.\n",
      "        description: An optional string description for the task.\n",
      "        tags: An optional set of tags to be associated with runs of this task. These\n",
      "            tags are combined with any tags defined by a `prefect.tags` context at\n",
      "            task runtime.\n",
      "        version: An optional string specifying the version of this task definition\n",
      "        cache_key_fn: An optional callable that, given the task run context and call\n",
      "            parameters, generates a string key; if the key matches a previous completed\n",
      "            state, that state result will be restored instead of running the task again.\n",
      "        cache_expiration: An optional amount of time indicating how long cached states\n",
      "            for this task should be restorable; if not provided, cached states will\n",
      "            never expire.\n",
      "        task_run_name: An optional name to distinguish runs of this task; this name can be provided\n",
      "            as a string template with the task's keyword arguments as variables,\n",
      "            or a function that returns a string.\n",
      "        retries: An optional number of times to retry on task run failure\n",
      "        retry_delay_seconds: Optionally configures how long to wait before retrying the\n",
      "            task after failure. This is only applicable if `retries` is nonzero. This\n",
      "            setting can either be a number of seconds, a list of retry delays, or a\n",
      "            callable that, given the total number of retries, generates a list of retry\n",
      "            delays. If a number of seconds, that delay will be applied to all retries.\n",
      "            If a list, each retry will wait for the corresponding delay before retrying.\n",
      "            When passing a callable or a list, the number of configured retry delays\n",
      "            cannot exceed 50.\n",
      "        retry_jitter_factor: An optional factor that defines the factor to which a retry\n",
      "            can be jittered in order to avoid a \"thundering herd\".\n",
      "        persist_result: An optional toggle indicating whether the result of this task\n",
      "            should be persisted to result storage. Defaults to `None`, which indicates\n",
      "            that Prefect should choose whether the result should be persisted depending on\n",
      "            the features being used.\n",
      "        result_storage: An optional block to use to persist the result of this task.\n",
      "            Defaults to the value set in the flow the task is called in.\n",
      "        result_storage_key: An optional key to store the result in storage at when persisted.\n",
      "            Defaults to a unique identifier.\n",
      "        result_serializer: An optional serializer to use to serialize the result of this\n",
      "            task for persistence. Defaults to the value set in the flow the task is\n",
      "            called in.\n",
      "        timeout_seconds: An optional number of seconds indicating a maximum runtime for\n",
      "            the task. If the task exceeds this runtime, it will be marked as failed.\n",
      "        log_prints: If set, `print` statements in the task will be redirected to the\n",
      "            Prefect logger for the task run. Defaults to `None`, which indicates\n",
      "            that the value from the flow should be used.\n",
      "        refresh_cache: If set, cached results for the cache key are not used.\n",
      "            Defaults to `None`, which indicates that a cached result from a previous\n",
      "            execution with matching cache key is used.\n",
      "        on_failure: An optional list of callables to run when the task enters a failed state.\n",
      "        on_completion: An optional list of callables to run when the task enters a completed state.\n",
      "    \n",
      "    Returns:\n",
      "        A callable `Task` object which, when called, will submit the task for execution.\n",
      "    \n",
      "    Examples:\n",
      "        Define a simple task\n",
      "    \n",
      "        >>> @task\n",
      "        >>> def add(x, y):\n",
      "        >>>     return x + y\n",
      "    \n",
      "        Define an async task\n",
      "    \n",
      "        >>> @task\n",
      "        >>> async def add(x, y):\n",
      "        >>>     return x + y\n",
      "    \n",
      "        Define a task with tags and a description\n",
      "    \n",
      "        >>> @task(tags={\"a\", \"b\"}, description=\"This task is empty but its my first!\")\n",
      "        >>> def my_task():\n",
      "        >>>     pass\n",
      "    \n",
      "        Define a task with a custom name\n",
      "    \n",
      "        >>> @task(name=\"The Ultimate Task\")\n",
      "        >>> def my_task():\n",
      "        >>>     pass\n",
      "    \n",
      "        Define a task that retries 3 times with a 5 second delay between attempts\n",
      "    \n",
      "        >>> from random import randint\n",
      "        >>>\n",
      "        >>> @task(retries=3, retry_delay_seconds=5)\n",
      "        >>> def my_task():\n",
      "        >>>     x = randint(0, 5)\n",
      "        >>>     if x >= 3:  # Make a task that fails sometimes\n",
      "        >>>         raise ValueError(\"Retry me please!\")\n",
      "        >>>     return x\n",
      "    \n",
      "        Define a task that is cached for a day based on its inputs\n",
      "    \n",
      "        >>> from prefect.tasks import task_input_hash\n",
      "        >>> from datetime import timedelta\n",
      "        >>>\n",
      "        >>> @task(cache_key_fn=task_input_hash, cache_expiration=timedelta(days=1))\n",
      "        >>> def my_task():\n",
      "        >>>     return \"hello\"\n",
      "\n"
     ]
    }
   ],
   "source": [
    "from prefect import task\n",
    "\n",
    "help(task)"
   ]
  },
  {
   "attachments": {},
   "cell_type": "markdown",
   "metadata": {},
   "source": [
    "Answer: `@task(retries=3, retry_delay_seconds=2, name=\"Read taxi data\")`"
   ]
  },
  {
   "attachments": {},
   "cell_type": "markdown",
   "metadata": {},
   "source": [
    "## Q2"
   ]
  },
  {
   "cell_type": "code",
   "execution_count": 16,
   "metadata": {},
   "outputs": [
    {
     "data": {
      "text/plain": [
       "[DateTime(2023, 7, 3, 9, 0, 0, tzinfo=Timezone('UTC')),\n",
       " DateTime(2023, 8, 3, 9, 0, 0, tzinfo=Timezone('UTC'))]"
      ]
     },
     "execution_count": 16,
     "metadata": {},
     "output_type": "execute_result"
    }
   ],
   "source": [
    "import asyncio\n",
    "\n",
    "from prefect.server.schemas.schedules import CronSchedule\n",
    "\n",
    "g = CronSchedule(cron=\"0 9 3 * *\").get_dates(2)\n",
    "\n",
    "await g\n"
   ]
  },
  {
   "attachments": {},
   "cell_type": "markdown",
   "metadata": {},
   "source": [
    "Answer: `0 9 3 * *`"
   ]
  },
  {
   "cell_type": "code",
   "execution_count": 9,
   "metadata": {},
   "outputs": [
    {
     "name": "stdout",
     "output_type": "stream",
     "text": [
      "\u001b[32mFound flow 'main-flow'\u001b[0m\n",
      "\u001b[32mDeployment YAML created at \u001b[0m\n",
      "\u001b[32m'/home/ubuntu/mlops-zoomcamp/cohorts/2023/03-orchestration/main_flow-deployment.\u001b[0m\n",
      "\u001b[32myaml'.\u001b[0m\n",
      "\u001b[32mDeployment storage None does not have upload capabilities; no files uploaded.  \u001b[0m\n",
      "\u001b[32mPass --skip-upload to suppress this warning.\u001b[0m\n"
     ]
    }
   ],
   "source": [
    "\n",
    "!prefect deployments build --cron \"0 9 3 * *\" ../../../03-orchestration/3.4/orchestrate.py:main_flow --name main_flow"
   ]
  },
  {
   "cell_type": "code",
   "execution_count": 10,
   "metadata": {},
   "outputs": [
    {
     "name": "stdout",
     "output_type": "stream",
     "text": [
      "\u001b[32mSuccessfully loaded 'main_flow'\u001b[0m\n",
      "\u001b[32mDeployment 'main-flow/main_flow' successfully created with id \u001b[0m\n",
      "\u001b[32m'c5993ccb-fbd5-43cf-b968-83f81342db68'.\u001b[0m\n",
      "\n",
      "To execute flow runs from this deployment, start an agent that pulls work from \n",
      "the 'default-agent-pool' work pool:\n",
      "\u001b[34m$ prefect agent start -p 'default-agent-pool'\u001b[0m\n"
     ]
    }
   ],
   "source": [
    "\"\"\"\n",
    "!prefect deployments build orchestrate.py:main_flow --name main_flow\n",
    "!prefect deployments apply main_flow-deployment.yaml\n",
    "!prefect deployments run main-flow/main_flow -p train_path=data/green_tripdata_2023-01.parquet -p val_path=data/green_tripdata_2023-02.parquet\n",
    "\"\"\""
   ]
  },
  {
   "attachments": {},
   "cell_type": "markdown",
   "metadata": {},
   "source": [
    "Answer: 5.19931"
   ]
  },
  {
   "attachments": {},
   "cell_type": "markdown",
   "metadata": {},
   "source": [
    "## Q4"
   ]
  },
  {
   "cell_type": "code",
   "execution_count": null,
   "metadata": {},
   "outputs": [],
   "source": [
    "\"\"\"\n",
    "!prefect deployments build orchestrate_s3.py:main_flow_s3 --name main_flow_s3\n",
    "!prefect deployments apply main_flow_s3-deployment.yaml\n",
    "!prefect deployments run main-flow-s3/main_flow_s3 -p train_path=data/green_tripdata_2023-02.parquet -p val_path=data/green_tripdata_2023-03.parquet\n",
    "\"\"\"\n"
   ]
  },
  {
   "attachments": {},
   "cell_type": "markdown",
   "metadata": {},
   "source": [
    "Answer: 5.37 "
   ]
  },
  {
   "attachments": {},
   "cell_type": "markdown",
   "metadata": {},
   "source": [
    "## Q5"
   ]
  },
  {
   "attachments": {},
   "cell_type": "markdown",
   "metadata": {},
   "source": [
    "https://prefecthq.github.io/prefect-email/message/\n",
    "\n",
    "Answer: `email_send_message`"
   ]
  },
  {
   "attachments": {},
   "cell_type": "markdown",
   "metadata": {},
   "source": [
    "## Q6"
   ]
  },
  {
   "attachments": {},
   "cell_type": "markdown",
   "metadata": {},
   "source": [
    "Answer: Actions"
   ]
  },
  {
   "attachments": {},
   "cell_type": "markdown",
   "metadata": {},
   "source": []
  }
 ],
 "metadata": {
  "kernelspec": {
   "display_name": "base",
   "language": "python",
   "name": "python3"
  },
  "language_info": {
   "codemirror_mode": {
    "name": "ipython",
    "version": 3
   },
   "file_extension": ".py",
   "mimetype": "text/x-python",
   "name": "python",
   "nbconvert_exporter": "python",
   "pygments_lexer": "ipython3",
   "version": "3.10.10"
  },
  "orig_nbformat": 4
 },
 "nbformat": 4,
 "nbformat_minor": 2
}
