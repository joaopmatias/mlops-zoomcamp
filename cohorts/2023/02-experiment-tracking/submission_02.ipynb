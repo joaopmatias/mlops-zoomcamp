{
 "cells": [
  {
   "attachments": {},
   "cell_type": "markdown",
   "metadata": {},
   "source": [
    "# Homework, week 02"
   ]
  },
  {
   "attachments": {},
   "cell_type": "markdown",
   "metadata": {},
   "source": [
    "## Q1"
   ]
  },
  {
   "cell_type": "code",
   "execution_count": 1,
   "metadata": {},
   "outputs": [
    {
     "name": "stdout",
     "output_type": "stream",
     "text": [
      "mlflow, version 2.3.2\n"
     ]
    }
   ],
   "source": [
    "! mlflow --version"
   ]
  },
  {
   "cell_type": "code",
   "execution_count": 2,
   "metadata": {},
   "outputs": [
    {
     "name": "stdout",
     "output_type": "stream",
     "text": [
      "--2023-05-27 22:26:08--  https://d37ci6vzurychx.cloudfront.net/trip-data/green_tripdata_2022-01.parquet\n",
      "Resolving d37ci6vzurychx.cloudfront.net (d37ci6vzurychx.cloudfront.net)... 18.67.246.47, 18.67.246.186, 18.67.246.167, ...\n",
      "Connecting to d37ci6vzurychx.cloudfront.net (d37ci6vzurychx.cloudfront.net)|18.67.246.47|:443... connected.\n",
      "HTTP request sent, awaiting response... 200 OK\n",
      "Length: 1254291 (1.2M) [binary/octet-stream]\n",
      "Saving to: ‘taxi_data/green_tripdata_2022-01.parquet’\n",
      "\n",
      "green_tripdata_2022 100%[===================>]   1.20M  --.-KB/s    in 0.1s    \n",
      "\n",
      "2023-05-27 22:26:09 (12.3 MB/s) - ‘taxi_data/green_tripdata_2022-01.parquet’ saved [1254291/1254291]\n",
      "\n",
      "--2023-05-27 22:26:10--  https://d37ci6vzurychx.cloudfront.net/trip-data/green_tripdata_2022-02.parquet\n",
      "Resolving d37ci6vzurychx.cloudfront.net (d37ci6vzurychx.cloudfront.net)... 18.67.246.47, 18.67.246.176, 18.67.246.186, ...\n",
      "Connecting to d37ci6vzurychx.cloudfront.net (d37ci6vzurychx.cloudfront.net)|18.67.246.47|:443... connected.\n",
      "HTTP request sent, awaiting response... 200 OK\n",
      "Length: 1428262 (1.4M) [binary/octet-stream]\n",
      "Saving to: ‘taxi_data/green_tripdata_2022-02.parquet’\n",
      "\n",
      "green_tripdata_2022 100%[===================>]   1.36M  --.-KB/s    in 0.08s   \n",
      "\n",
      "2023-05-27 22:26:10 (17.7 MB/s) - ‘taxi_data/green_tripdata_2022-02.parquet’ saved [1428262/1428262]\n",
      "\n",
      "--2023-05-27 22:26:11--  https://d37ci6vzurychx.cloudfront.net/trip-data/green_tripdata_2022-03.parquet\n",
      "Resolving d37ci6vzurychx.cloudfront.net (d37ci6vzurychx.cloudfront.net)... 18.67.246.186, 18.67.246.167, 18.67.246.47, ...\n",
      "Connecting to d37ci6vzurychx.cloudfront.net (d37ci6vzurychx.cloudfront.net)|18.67.246.186|:443... connected.\n",
      "HTTP request sent, awaiting response... 200 OK\n",
      "Length: 1615562 (1.5M) [binary/octet-stream]\n",
      "Saving to: ‘taxi_data/green_tripdata_2022-03.parquet’\n",
      "\n",
      "green_tripdata_2022 100%[===================>]   1.54M  --.-KB/s    in 0.07s   \n",
      "\n",
      "2023-05-27 22:26:11 (21.3 MB/s) - ‘taxi_data/green_tripdata_2022-03.parquet’ saved [1615562/1615562]\n",
      "\n"
     ]
    }
   ],
   "source": [
    "\"\"\"\n",
    "https://d37ci6vzurychx.cloudfront.net/trip-data/green_tripdata_2022-01.parquet\n",
    "\n",
    "https://d37ci6vzurychx.cloudfront.net/trip-data/green_tripdata_2022-02.parquet\n",
    "\n",
    "https://d37ci6vzurychx.cloudfront.net/trip-data/green_tripdata_2022-03.parquet\n",
    "\"\"\"\n",
    "\n",
    "!wget https://d37ci6vzurychx.cloudfront.net/trip-data/green_tripdata_2022-01.parquet -P taxi_data\n",
    "\n",
    "!wget https://d37ci6vzurychx.cloudfront.net/trip-data/green_tripdata_2022-02.parquet -P taxi_data\n",
    "\n",
    "!wget https://d37ci6vzurychx.cloudfront.net/trip-data/green_tripdata_2022-03.parquet -P taxi_data\n"
   ]
  },
  {
   "cell_type": "code",
   "execution_count": 4,
   "metadata": {},
   "outputs": [],
   "source": [
    "!python -m homework.preprocess_data --raw_data_path ./taxi_data --dest_path ./output\n"
   ]
  },
  {
   "cell_type": "code",
   "execution_count": 6,
   "metadata": {},
   "outputs": [
    {
     "name": "stdout",
     "output_type": "stream",
     "text": [
      "2.6M\t./output/test.pkl\n",
      "152K\t./output/dv.pkl\n",
      "2.3M\t./output/val.pkl\n",
      "2.1M\t./output/train.pkl\n",
      "7.0M\t./output\n"
     ]
    }
   ],
   "source": [
    "\n",
    "!du -h -a ./output"
   ]
  },
  {
   "attachments": {},
   "cell_type": "markdown",
   "metadata": {},
   "source": [
    "Answer: 154 kB"
   ]
  },
  {
   "attachments": {},
   "cell_type": "markdown",
   "metadata": {},
   "source": [
    "## Q3"
   ]
  },
  {
   "cell_type": "code",
   "execution_count": 8,
   "metadata": {},
   "outputs": [
    {
     "name": "stdout",
     "output_type": "stream",
     "text": [
      "2023/05/27 23:01:44 INFO mlflow.tracking.fluent: Autologging successfully enabled for sklearn.\n",
      "2023/05/27 23:01:56 WARNING mlflow.utils.autologging_utils: MLflow autologging encountered a warning: \"/home/ubuntu/miniconda3/lib/python3.10/site-packages/_distutils_hack/__init__.py:33: UserWarning: Setuptools is replacing distutils.\"\n"
     ]
    }
   ],
   "source": [
    "!python -m homework.train --data_path ./output"
   ]
  },
  {
   "attachments": {},
   "cell_type": "markdown",
   "metadata": {},
   "source": [
    "Answer: `max_depth` is 10."
   ]
  },
  {
   "cell_type": "code",
   "execution_count": null,
   "metadata": {},
   "outputs": [],
   "source": [
    "\"\"\"\n",
    "mlops-mlflow-artifacts\n",
    "\n",
    "mlops-mlflow-postgres\n",
    "\n",
    "pg endpoint:\n",
    "mlops-mlflow-postgres.cwxl25vx6lxd.eu-south-2.rds.amazonaws.com\n",
    "\"\"\""
   ]
  },
  {
   "attachments": {},
   "cell_type": "markdown",
   "metadata": {},
   "source": [
    "## Q4"
   ]
  },
  {
   "cell_type": "code",
   "execution_count": null,
   "metadata": {},
   "outputs": [],
   "source": [
    "\"\"\"\n",
    "        mlflow.log_metric(\"rmse\", rmse)\n",
    "\"\"\""
   ]
  },
  {
   "attachments": {},
   "cell_type": "markdown",
   "metadata": {},
   "source": [
    "Answer: The least `rmse` during validation was 2.45"
   ]
  },
  {
   "cell_type": "code",
   "execution_count": 12,
   "metadata": {},
   "outputs": [
    {
     "data": {
      "text/plain": [
       "5"
      ]
     },
     "execution_count": 12,
     "metadata": {},
     "output_type": "execute_result"
    }
   ],
   "source": [
    "\n",
    "from mlflow.tracking import MlflowClient\n",
    "\n",
    "client = MlflowClient(\"http://127.0.0.1:5001\")\n",
    "a = client.search_runs(\n",
    "    experiment_ids=1,\n",
    "    max_results=5,\n",
    "    filter_string = \"tags.number = '01'\",\n",
    "    order_by=[\"metrics.rmse DESC\"],\n",
    ")\n",
    "\n",
    "len(a)"
   ]
  },
  {
   "cell_type": "code",
   "execution_count": 6,
   "metadata": {},
   "outputs": [
    {
     "data": {
      "text/plain": [
       "0    2.285469\n",
       "Name: metrics.test_rmse, dtype: float64"
      ]
     },
     "execution_count": 6,
     "metadata": {},
     "output_type": "execute_result"
    }
   ],
   "source": [
    "import mlflow\n",
    "\n",
    "mlflow.set_tracking_uri(\"http://127.0.0.1:5001\")\n",
    "\n",
    "experiment = mlflow.get_experiment_by_name(\"random-forest-best-models\")\n",
    "run = mlflow.search_runs(\n",
    "    experiment_ids=experiment.experiment_id,\n",
    "    max_results=1,\n",
    "    order_by=[\"metrics.test_rmse ASC\"],\n",
    ")\n",
    "\n",
    "run[\"metrics.test_rmse\"]"
   ]
  },
  {
   "attachments": {},
   "cell_type": "markdown",
   "metadata": {},
   "source": [
    "Answer: 2.185"
   ]
  },
  {
   "attachments": {},
   "cell_type": "markdown",
   "metadata": {},
   "source": [
    "## Q6"
   ]
  },
  {
   "attachments": {},
   "cell_type": "markdown",
   "metadata": {},
   "source": [
    "Answer: Version number"
   ]
  },
  {
   "attachments": {},
   "cell_type": "markdown",
   "metadata": {},
   "source": []
  }
 ],
 "metadata": {
  "kernelspec": {
   "display_name": "base",
   "language": "python",
   "name": "python3"
  },
  "language_info": {
   "codemirror_mode": {
    "name": "ipython",
    "version": 3
   },
   "file_extension": ".py",
   "mimetype": "text/x-python",
   "name": "python",
   "nbconvert_exporter": "python",
   "pygments_lexer": "ipython3",
   "version": "3.10.10"
  },
  "orig_nbformat": 4
 },
 "nbformat": 4,
 "nbformat_minor": 2
}
